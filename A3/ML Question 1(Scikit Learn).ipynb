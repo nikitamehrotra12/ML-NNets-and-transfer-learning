{
 "cells": [
  {
   "cell_type": "code",
   "execution_count": 2,
   "metadata": {
    "_cell_guid": "b1076dfc-b9ad-4769-8c92-a6c4dae69d19",
    "_uuid": "8f2839f25d086af736a60e9eeb907d3b93b6e0e5"
   },
   "outputs": [],
   "source": [
    "import numpy as np # linear algebra\n",
    "import pandas as pd # data processing, CSV file I/O (e.g. pd.read_csv)\n",
    "import os\n",
    "import h5py\n",
    "from sklearn.model_selection import train_test_split\n",
    "from sklearn.neural_network import MLPClassifier\n",
    "import matplotlib.pyplot as plt\n",
    "from sklearn.metrics import classification_report,confusion_matrix"
   ]
  },
  {
   "cell_type": "code",
   "execution_count": 13,
   "metadata": {
    "_uuid": "af2369db4da2831ad8e2c77c748be25e35aef777"
   },
   "outputs": [],
   "source": [
    "def neural_net(image_train,labels_train,no_of_layers,no_of_nodes,images_validation,images_test,labels_validation,labels_test):\n",
    "    if(no_of_layers==1):\n",
    "        clf = MLPClassifier(solver='sgd',activation='logistic', alpha=1e-5, hidden_layer_sizes=no_of_nodes, random_state=1)\n",
    "        clf.fit(images_train,labels_train)   \n",
    "        print(clf)\n",
    "        label_train=clf.predict(images_train)\n",
    "        label_val=clf.predict(images_validation)\n",
    "        label_test=clf.predict(images_test)\n",
    "        print('training score with 1 hidden layer',clf.score(images_train,labels_train))\n",
    "        print('confusion metrics(Training):\\n', confusion_matrix(labels_train,label_train))\n",
    "        print('Classifictaion report',classification_report(labels_train,label_train))\n",
    "        print('Validation score with 1 hidden layer',clf.score(images_validation,labels_validation))\n",
    "        print('confusion metrics(Validation):\\n', confusion_matrix(labels_validation,label_val))\n",
    "        print('Classifictaion report',classification_report(labels_test,label_test))\n",
    "        print('Testing score with 1 hidden layer',clf.score(images_test,labels_test))\n",
    "        print('confusion metrics(Test):\\n', confusion_matrix(labels_test,label_test))\n",
    "        print('Classifictaion report',classification_report(labels_validation,label_val))\n",
    "\n",
    "    elif(no_of_layers==3):\n",
    "        clf = MLPClassifier(solver='sgd',activation='logistic', alpha=1e-5, hidden_layer_sizes=no_of_nodes, random_state=1)\n",
    "        clf.fit(images_train,labels_train)      \n",
    "        print(clf)\n",
    "        label_train=clf.predict(images_train)\n",
    "        label_val=clf.predict(images_validation)\n",
    "        label_test=clf.predict(images_test)\n",
    "        print('training score with 1 hidden layer',clf.score(images_train,labels_train))\n",
    "        print('confusion metrics(Training):\\n', confusion_matrix(labels_train,label_train))\n",
    "        print('Classifictaion report',classification_report(labels_train,label_train))\n",
    "        print('Validation score with 1 hidden layer',clf.score(images_validation,labels_validation))\n",
    "        print('confusion metrics(Validation):\\n' ,confusion_matrix(labels_validation,label_val))\n",
    "        print('Classifictaion report',classification_report(labels_test,label_test))\n",
    "        print('Testing score with 1 hidden layer',clf.score(images_test,labels_test))\n",
    "        print('confusion metrics(Test):\\n',confusion_matrix(labels_test,label_test))\n",
    "        print('Classifictaion report',classification_report(labels_validation,label_val))\n",
    "            "
   ]
  },
  {
   "cell_type": "code",
   "execution_count": 13,
   "metadata": {
    "_cell_guid": "79c7e3d0-c299-4dcb-8224-4455121ee9b0",
    "_uuid": "d629ff2d2480ee46fbb7e2d37f6b5fab8052498a"
   },
   "outputs": [
    {
     "name": "stdout",
     "output_type": "stream",
     "text": [
      "['X', 'Y']\n",
      "(4276, 28, 28)\n",
      "(7980, 28, 28)\n",
      "(1995, 28, 28)\n"
     ]
    }
   ],
   "source": [
    "file=h5py.File('MNIST_Subset.h5','r')\n",
    "print(list(file.keys()))\n",
    "images=file['X'][:]\n",
    "labels=file['Y'][:]\n",
    "X_train, images_test, y_train, labels_test = train_test_split(images, labels, test_size=0.3, random_state=42)\n",
    "print(images_test.shape)\n",
    "images_train, images_validation, labels_train, labels_validation = train_test_split(X_train, y_train, test_size=0.2, random_state=42)\n",
    "print(images_train.shape)\n",
    "print(images_validation.shape)\n"
   ]
  },
  {
   "cell_type": "code",
   "execution_count": 14,
   "metadata": {
    "_uuid": "05283ec493b53db03bf5d6762558b795be83e38c"
   },
   "outputs": [
    {
     "name": "stdout",
     "output_type": "stream",
     "text": [
      "[7 9]\n",
      "(14251, 28, 28)\n"
     ]
    }
   ],
   "source": [
    "print(np.unique(labels))\n",
    "print(images.shape)\n",
    "number_of_samples=len(images)\n",
    "input_dim=784\n",
    "output_dim=np.unique(labels)"
   ]
  },
  {
   "cell_type": "code",
   "execution_count": 15,
   "metadata": {
    "_uuid": "56f0beba408d1e883565ed70afd2a60e7ff50812"
   },
   "outputs": [],
   "source": [
    "images_train = images_train.reshape(images_train.shape[0], 784)\n",
    "images_test = images_test.reshape(images_test.shape[0],784)\n",
    "images_validation = images_validation.reshape(images_validation.shape[0],784)"
   ]
  },
  {
   "cell_type": "code",
   "execution_count": 16,
   "metadata": {
    "_uuid": "aa01692c9abd3e06f5bd423704b1b117e42078c0"
   },
   "outputs": [
    {
     "name": "stdout",
     "output_type": "stream",
     "text": [
      "(4276, 784) (7980, 784) (1995, 784)\n"
     ]
    }
   ],
   "source": [
    "print(images_test.shape,images_train.shape,images_validation.shape)\n",
    "epochs=10"
   ]
  },
  {
   "cell_type": "code",
   "execution_count": 14,
   "metadata": {
    "_uuid": "c6d8477935dfd4182a3789c4582e42bb17b2151e"
   },
   "outputs": [
    {
     "name": "stderr",
     "output_type": "stream",
     "text": [
      "/Users/nikitamehrotra/Downloads/assignment1/env/lib/python3.7/site-packages/sklearn/neural_network/multilayer_perceptron.py:562: ConvergenceWarning: Stochastic Optimizer: Maximum iterations (200) reached and the optimization hasn't converged yet.\n",
      "  % self.max_iter, ConvergenceWarning)\n"
     ]
    },
    {
     "name": "stdout",
     "output_type": "stream",
     "text": [
      "MLPClassifier(activation='logistic', alpha=1e-05, batch_size='auto',\n",
      "       beta_1=0.9, beta_2=0.999, early_stopping=False, epsilon=1e-08,\n",
      "       hidden_layer_sizes=[100, 50, 50], learning_rate='constant',\n",
      "       learning_rate_init=0.001, max_iter=200, momentum=0.9,\n",
      "       n_iter_no_change=10, nesterovs_momentum=True, power_t=0.5,\n",
      "       random_state=1, shuffle=True, solver='sgd', tol=0.0001,\n",
      "       validation_fraction=0.1, verbose=False, warm_start=False)\n",
      "training score with 1 hidden layer 0.9755639097744361\n",
      "confusion metrics(Training):\n",
      " [[3978  112]\n",
      " [  83 3807]]\n",
      "Classifictaion report               precision    recall  f1-score   support\n",
      "\n",
      "           7       0.98      0.97      0.98      4090\n",
      "           9       0.97      0.98      0.98      3890\n",
      "\n",
      "   micro avg       0.98      0.98      0.98      7980\n",
      "   macro avg       0.98      0.98      0.98      7980\n",
      "weighted avg       0.98      0.98      0.98      7980\n",
      "\n",
      "Validation score with 1 hidden layer 0.9488721804511279\n",
      "confusion metrics(Validation):\n",
      " [[945  52]\n",
      " [ 50 948]]\n",
      "Classifictaion report               precision    recall  f1-score   support\n",
      "\n",
      "           7       0.96      0.95      0.96      2206\n",
      "           9       0.95      0.96      0.95      2070\n",
      "\n",
      "   micro avg       0.96      0.96      0.96      4276\n",
      "   macro avg       0.96      0.96      0.96      4276\n",
      "weighted avg       0.96      0.96      0.96      4276\n",
      "\n",
      "Testing score with 1 hidden layer 0.9553320860617399\n",
      "confusion metrics(Test):\n",
      " [[2100  106]\n",
      " [  85 1985]]\n",
      "Classifictaion report               precision    recall  f1-score   support\n",
      "\n",
      "           7       0.95      0.95      0.95       997\n",
      "           9       0.95      0.95      0.95       998\n",
      "\n",
      "   micro avg       0.95      0.95      0.95      1995\n",
      "   macro avg       0.95      0.95      0.95      1995\n",
      "weighted avg       0.95      0.95      0.95      1995\n",
      "\n"
     ]
    }
   ],
   "source": [
    "neural_net(images_train,labels_train,3,[100,50,50],images_validation,images_test,labels_validation,labels_test)"
   ]
  },
  {
   "cell_type": "code",
   "execution_count": 15,
   "metadata": {
    "_uuid": "484b5c39c6ef7698e81793efefabab77e4536739"
   },
   "outputs": [
    {
     "name": "stdout",
     "output_type": "stream",
     "text": [
      "MLPClassifier(activation='logistic', alpha=1e-05, batch_size='auto',\n",
      "       beta_1=0.9, beta_2=0.999, early_stopping=False, epsilon=1e-08,\n",
      "       hidden_layer_sizes=100, learning_rate='constant',\n",
      "       learning_rate_init=0.001, max_iter=200, momentum=0.9,\n",
      "       n_iter_no_change=10, nesterovs_momentum=True, power_t=0.5,\n",
      "       random_state=1, shuffle=True, solver='sgd', tol=0.0001,\n",
      "       validation_fraction=0.1, verbose=False, warm_start=False)\n",
      "training score with 1 hidden layer 0.9878446115288221\n",
      "confusion metrics(Training):\n",
      " [[4037   53]\n",
      " [  44 3846]]\n",
      "Classifictaion report               precision    recall  f1-score   support\n",
      "\n",
      "           7       0.99      0.99      0.99      4090\n",
      "           9       0.99      0.99      0.99      3890\n",
      "\n",
      "   micro avg       0.99      0.99      0.99      7980\n",
      "   macro avg       0.99      0.99      0.99      7980\n",
      "weighted avg       0.99      0.99      0.99      7980\n",
      "\n",
      "Validation score with 1 hidden layer 0.956390977443609\n",
      "confusion metrics(Validation):\n",
      " [[950  47]\n",
      " [ 40 958]]\n",
      "Classifictaion report               precision    recall  f1-score   support\n",
      "\n",
      "           7       0.97      0.96      0.96      2206\n",
      "           9       0.96      0.97      0.96      2070\n",
      "\n",
      "   micro avg       0.96      0.96      0.96      4276\n",
      "   macro avg       0.96      0.96      0.96      4276\n",
      "weighted avg       0.96      0.96      0.96      4276\n",
      "\n",
      "Testing score with 1 hidden layer 0.9618802619270346\n",
      "confusion metrics(Test):\n",
      " [[2114   92]\n",
      " [  71 1999]]\n",
      "Classifictaion report               precision    recall  f1-score   support\n",
      "\n",
      "           7       0.96      0.95      0.96       997\n",
      "           9       0.95      0.96      0.96       998\n",
      "\n",
      "   micro avg       0.96      0.96      0.96      1995\n",
      "   macro avg       0.96      0.96      0.96      1995\n",
      "weighted avg       0.96      0.96      0.96      1995\n",
      "\n"
     ]
    }
   ],
   "source": [
    "neural_net(images_train,labels_train,1,100,images_validation,images_test,labels_validation,labels_test)"
   ]
  }
 ],
 "metadata": {
  "kernelspec": {
   "display_name": "Python 3",
   "language": "python",
   "name": "python3"
  },
  "language_info": {
   "codemirror_mode": {
    "name": "ipython",
    "version": 3
   },
   "file_extension": ".py",
   "mimetype": "text/x-python",
   "name": "python",
   "nbconvert_exporter": "python",
   "pygments_lexer": "ipython3",
   "version": "3.7.0"
  }
 },
 "nbformat": 4,
 "nbformat_minor": 1
}
