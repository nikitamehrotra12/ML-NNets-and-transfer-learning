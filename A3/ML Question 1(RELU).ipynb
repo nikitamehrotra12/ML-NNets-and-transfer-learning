{
 "cells": [
  {
   "cell_type": "code",
   "execution_count": 1,
   "metadata": {},
   "outputs": [],
   "source": [
    "# def initialize_params(layers_dims,m):\n",
    "#     parameters={}\n",
    "#     no_of_layers=len(layers_dims)\n",
    "#     for i in range(1,no_of_layers):\n",
    "#         parameters['W'+str(i)]=np.random.rand(layers_dims[i],layers_dims[i-1])/ np.sqrt(layers_dims[i-1])\n",
    "#         parameters['b'+str(i)]=np.zeros((layers_dims[i],m))         \n",
    "#     return parameters\n",
    "# def softmax(a):\n",
    "#     cache=a\n",
    "#     softm=np.exp(a)\n",
    "#     softm=softm/(np.sum(softm,keepdims=True))\n",
    "#     return softm,cache\n",
    "# def sigmoid(Z):\n",
    "#     cache=Z\n",
    "#     return 1.0/(1.0+np.exp(-Z)),cache\n",
    "# def relu(Z):\n",
    "#     cache=Z\n",
    "#     return np.max(0,Z),cache\n",
    "# def linear_forwrd(A_PREV,W,b):\n",
    "# #     print('A_PREV',A_PREV.shape)\n",
    "# #     print('W',W.shape)\n",
    "# #     print('b',b.shape)\n",
    "#     Z = np.add(np.matmul(W, A_PREV), b)\n",
    "#     cache=(A_PREV,W,b)\n",
    "# #     print('Z',Z.shape)\n",
    "#     return Z,cache\n",
    "# def linear_activation(A_PREV,W,b,activation):\n",
    "#     if activation==\"sigmoid\":\n",
    "#         Z,linear_cache=linear_forwrd(A_PREV,W,b)\n",
    "# #         print('Z',Z.shape)\n",
    "#         A,activation_cache=sigmoid(Z)\n",
    "# #         print('A',A.shape)\n",
    "#     elif activation==\"relu\":\n",
    "#         Z,linear_cache=linear_forwrd(A_PREV,W,b)\n",
    "#         A,activation_cache=relu(Z)\n",
    "#     elif activation==\"softmax\":\n",
    "#         Z,linear_cache=linear_forwrd(A_PREV,W,b)\n",
    "#         A,activation_cache=softmax(Z)\n",
    "#     cache=(linear_cache,activation_cache)\n",
    "#     return A,cache       \n",
    "# def forward_prop(images,parameters):\n",
    "#     caches=[]\n",
    "#     A=images\n",
    "#     L=len(parameters)//2\n",
    "#     for i in range(1,L+1):\n",
    "#         if(i==L):\n",
    "# #             print('called',i)\n",
    "#             A_PREV=A   \n",
    "# #             print('prev',(np.unique(A_PREV)))\n",
    "#             A,cache=linear_activation(A_PREV,parameters['W'+str(i)],parameters['b'+str(i)],'sigmoid')\n",
    "# #             print('new',np.unique(A))\n",
    "#             caches.append(cache)\n",
    "#         else:\n",
    "# #             print(i)\n",
    "#             A_PREV=A\n",
    "# #             print('prev',np.unique(A_PREV))\n",
    "#             A,cache=linear_activation(A_PREV,parameters['W'+str(i)],parameters['b'+str(i)],'sigmoid')\n",
    "# #             print('new',np.unique(A))\n",
    "#             caches.append(cache)\n",
    "#     return A,caches\n",
    "\n"
   ]
  },
  {
   "cell_type": "code",
   "execution_count": 2,
   "metadata": {
    "_cell_guid": "b1076dfc-b9ad-4769-8c92-a6c4dae69d19",
    "_uuid": "8f2839f25d086af736a60e9eeb907d3b93b6e0e5"
   },
   "outputs": [],
   "source": [
    "import numpy as np # linear algebra\n",
    "import pandas as pd # data processing, CSV file I/O (e.g. pd.read_csv)\n",
    "import h5py\n",
    "import matplotlib.pyplot as plt\n",
    "from sklearn.model_selection import train_test_split\n",
    "from sklearn.preprocessing import OneHotEncoder\n",
    "import os"
   ]
  },
  {
   "cell_type": "code",
   "execution_count": 3,
   "metadata": {
    "_uuid": "8498e44461ec6c6b4b2d23c117a34e19fd249b04",
    "scrolled": true
   },
   "outputs": [
    {
     "name": "stdout",
     "output_type": "stream",
     "text": [
      "test-image-shape (4276, 28, 28) ,train-image-shape (9975, 28, 28) test-label-shape (4276,) ,train-label-shape (9975,)\n"
     ]
    }
   ],
   "source": [
    "file=h5py.File('MNIST_Subset.h5','r')\n",
    "images=file['X'][:]\n",
    "labels=file['Y'][:]\n",
    "images_train, images_test, labels_train, labels_test = train_test_split(images, labels, test_size=0.3, random_state=42)\n",
    "print('test-image-shape',images_test.shape,',train-image-shape',images_train.shape,'test-label-shape',labels_test.shape,',train-label-shape',labels_train.shape)"
   ]
  },
  {
   "cell_type": "code",
   "execution_count": 4,
   "metadata": {
    "_uuid": "f469aa030b48c2065bdad154cf28b450631bf978"
   },
   "outputs": [
    {
     "name": "stdout",
     "output_type": "stream",
     "text": [
      "(1, 4276)\n",
      "(1, 9975)\n",
      "(784, 4276)\n",
      "(784, 9975)\n"
     ]
    }
   ],
   "source": [
    "label_train=np.where(labels_train==7,0,1)\n",
    "label_test=np.where(labels_test==7,0,1)\n",
    "label_train=label_train.reshape(1,9975)\n",
    "label_test=label_test.reshape(1,4276)\n",
    "print(label_test.shape)\n",
    "print(label_train.shape)\n",
    "image_test=np.reshape(images_test,(784,4276))\n",
    "image_train=np.reshape(images_train,(784,9975))\n",
    "print(image_test.shape)\n",
    "print(image_train.shape)"
   ]
  },
  {
   "cell_type": "code",
   "execution_count": 5,
   "metadata": {},
   "outputs": [],
   "source": [
    "image_train=image_train/255\n",
    "image_test=image_test/255"
   ]
  },
  {
   "cell_type": "code",
   "execution_count": 6,
   "metadata": {
    "_uuid": "b14cac08ee6efa54c43960ed25fabb186d515529"
   },
   "outputs": [],
   "source": [
    "def initialize_parameters_deep(layer_dims):\n",
    "    np.random.seed(1)\n",
    "    parameters = {}\n",
    "    L = len(layer_dims)            # number of layers in the network\n",
    "    for l in range(1, L):\n",
    "        parameters['W' + str(l)] = np.random.randn(layer_dims[l], layer_dims[l-1])*0.01\n",
    "        parameters['b' + str(l)] = np.zeros((layer_dims[l], 1))        \n",
    "        assert(parameters['W' + str(l)].shape == (layer_dims[l], layer_dims[l-1]))\n",
    "        assert(parameters['b' + str(l)].shape == (layer_dims[l], 1))        \n",
    "    return parameters\n",
    "def linear_forward(A_prev, W, b):\n",
    "    Z = np.add(np.matmul(W, A_prev), b)    \n",
    "    assert(Z.shape == (W.shape[0], A_prev.shape[1]))\n",
    "    cache = (A_prev, W, b)    \n",
    "    return Z, cache\n",
    "def sigmoid(Z):\n",
    "    A = 1.0/(1.0+np.exp(-Z))\n",
    "#     print(A)\n",
    "    cache = Z    \n",
    "    return A, cache\n",
    "# def softmax(a):\n",
    "#     cache=a\n",
    "#     softm=np.exp(a)\n",
    "#     softm=softm/(np.sum(softm,keepdims=True))\n",
    "#     return softm,cache\n",
    "def relu(Z):\n",
    "    A = np.maximum(0,Z)\n",
    "    assert(A.shape == Z.shape)    \n",
    "    cache = Z \n",
    "    return A, cache\n",
    "def linear_activation_forward(A_prev, W, b, activation):\n",
    "    if activation == \"sigmoid\":\n",
    "        Z, linear_cache = linear_forward(A_prev, W, b)\n",
    "        A, activation_cache = sigmoid(Z)\n",
    "#     elif activation == \"softmax\":\n",
    "#         # Inputs: \"A_prev, W, b\". Outputs: \"A, activation_cache\".\n",
    "#         ### START CODE HERE ### (≈ 2 lines of code)\n",
    "#         Z, linear_cache = linear_forward(A_prev, W, b)\n",
    "#         A, activation_cache = softmax(Z)\n",
    "#         ### END CODE HERE ###\n",
    "    elif activation == \"relu\":\n",
    "        # Inputs: \"A_prev, W, b\". Outputs: \"A, activation_cache\".\n",
    "        ### START CODE HERE ### (≈ 2 lines of code)\n",
    "        Z, linear_cache = linear_forward(A_prev, W, b)\n",
    "        A, activation_cache = relu(Z)\n",
    "        ### END CODE HERE ###    \n",
    "#     assert (A.shape == (W.shape[0], A_prev.shape[1]))\n",
    "    cache = (linear_cache, activation_cache)\n",
    "    return A, cache\n",
    "def L_model_forward(X, parameters):\n",
    "    caches = []\n",
    "    A = X\n",
    "    L = len(parameters) // 2                  # number of layers in the neural network    \n",
    "    # Implement [LINEAR -> RELU]*(L-1). Add \"cache\" to the \"caches\" list.\n",
    "    for l in range(1, L):\n",
    "        A_prev = A \n",
    "        A, cache = linear_activation_forward(A_prev, parameters['W' + str(l)], parameters['b' + str(l)], 'relu')\n",
    "        caches.append(cache) \n",
    "    # Implement LINEAR -> SIGMOID. Add \"cache\" to the \"caches\" list.\n",
    "    AL, cache = linear_activation_forward(A, parameters['W' + str(L)], parameters['b' + str(L)], 'sigmoid')\n",
    "    caches.append(cache)\n",
    "    assert(AL.shape == (1,X.shape[1]))            \n",
    "    return AL, caches\n",
    "def compute_cost(AL, Y):\n",
    "    m = Y.shape[1]\n",
    "   # print(AL.shape,Y.shape)\n",
    "    # Compute loss from aL and y.\n",
    "    cost = (1./m) * (-np.dot(Y,np.log(AL).T) - np.dot(1-Y, np.log(1-AL).T))    \n",
    "    cost = np.squeeze(cost)  \n",
    "#     print(cost.shape)\n",
    "    # To make sure your cost's shape is what we expect (e.g. this turns [[17]] into 17).\n",
    "    assert(cost.shape == ())    \n",
    "    return cost"
   ]
  },
  {
   "cell_type": "code",
   "execution_count": 11,
   "metadata": {
    "_uuid": "a981e4d3b109f31d48b9397eb64db18e695c4839",
    "scrolled": true
   },
   "outputs": [],
   "source": [
    "def linear_backward(dZ, cache):\n",
    "    A_prev, W, b = cache\n",
    "    m = A_prev.shape[1]\n",
    "#     print(dZ.shape, A_prev.shape)\n",
    "    dW = (1.0/m) * np.matmul(dZ, A_prev.T)\n",
    "    db = (1.0/m) * np.sum(dZ, axis=-1, keepdims=True)\n",
    "    dA_prev = np.matmul(np.transpose(W), dZ) \n",
    "    assert (dA_prev.shape == A_prev.shape)\n",
    "    assert (dW.shape == W.shape)\n",
    "    assert (db.shape == b.shape)    \n",
    "    return dA_prev, dW, db\n",
    "# def softmax_backward(softmax,cache):\n",
    "#     # Reshape the 1-d softmax to 2-d so that np.dot will do the matrix multiplication\n",
    "#     s = softmax.reshape(-1,1)\n",
    "#     return np.diagflat(s) - np.dot(s, s.T),cache\n",
    "def sigmoid_backward(dA, cache):\n",
    "    Z = cache\n",
    "    s = 1/(1+np.exp(-Z))\n",
    "    dZ = dA * s * (1-s)\n",
    "    return dZ\n",
    "def relu_backward(dA, cache):\n",
    "    Z = cache\n",
    "    dZ = np.array(dA, copy=True) # just converting dz to a correct object.\n",
    "    dZ[Z <= 0] = 0\n",
    "    assert (dZ.shape == Z.shape) \n",
    "    return dZ\n",
    "def linear_activation_backward(dA, cache, activation):\n",
    "    linear_cache, activation_cache = cache   \n",
    "    if activation == \"relu\":\n",
    "        dZ = relu_backward(dA, activation_cache)\n",
    "        dA_prev, dW, db = linear_backward(dZ, linear_cache)        \n",
    "    elif activation == \"sigmoid\":\n",
    "        dZ = sigmoid_backward(dA, activation_cache)\n",
    "        dA_prev, dW, db = linear_backward(dZ, linear_cache)  \n",
    "#     elif activation==\"softmax\":\n",
    "#         dZ = softmax_backward(dA, activation_cache)\n",
    "#         dA_prev, dW, db = linear_backward(dZ, linear_cache)  \n",
    "    return dA_prev, dW, db\n",
    "def L_model_backward(AL, Y, caches):\n",
    "    grads = {}\n",
    "    L = len(caches) # the number of layers\n",
    "    m = AL.shape[1]\n",
    "#     print(m,AL.shape,L,Y.shape)\n",
    "    Y = Y.reshape(AL.shape) # after this line, Y is the same shape as AL    \n",
    "    # Initializing the backpropagation\n",
    "    dAL = - (np.divide(Y, AL) - np.divide(1 - Y, 1 - AL))    \n",
    "    # Lth layer (SIGMOID -> LINEAR) gradients. Inputs: \"AL, Y, caches\". Outputs: \"grads[\"dAL\"], grads[\"dWL\"], grads[\"dbL\"]\n",
    "    current_cache = caches[L-1]\n",
    "    grads[\"dA\" + str(L)], grads[\"dW\" + str(L)], grads[\"db\" + str(L)] = linear_activation_backward(dAL, current_cache, activation = \"sigmoid\")    \n",
    "    for l in reversed(range(L-1)):\n",
    "        # lth layer: (RELU -> LINEAR) gradients.\n",
    "        current_cache = caches[l]\n",
    "        dA_prev_temp, dW_temp, db_temp = linear_activation_backward(grads[\"dA\" + str(l + 2)], current_cache, activation = \"relu\")\n",
    "        grads[\"dA\" + str(l + 1)] = dA_prev_temp\n",
    "        grads[\"dW\" + str(l + 1)] = dW_temp\n",
    "        grads[\"db\" + str(l + 1)] = db_temp\n",
    "    return grads\n",
    "def update_parameters(parameters, grads, learning_rate):\n",
    "    L = len(parameters) // 2 # number of layers in the neural network\n",
    "    # Update rule for each parameter. Use a for loop.\n",
    "    for l in range(L):\n",
    "        parameters[\"W\" + str(l+1)] = parameters[\"W\" + str(l+1)] - learning_rate * grads[\"dW\" + str(l+1)]\n",
    "        parameters[\"b\" + str(l+1)] = parameters[\"b\" + str(l+1)] - learning_rate * grads[\"db\" + str(l+1)]        \n",
    "    return parameters\n",
    "def L_layer_model(X, Y, layers_dims, parameters=None, learning_rate = 0.75, num_iterations = 1000, print_cost=False):#lr was 0.009\n",
    "    np.random.seed(1)\n",
    "    costs = []                         # keep track of cost\n",
    "    if not parameters:\n",
    "        parameters = initialize_parameters_deep(layers_dims)\n",
    "    for i in range(0, num_iterations):\n",
    "        AL, caches = L_model_forward(X, parameters)\n",
    "        # Compute cost.\n",
    "       # print('AL',AL.shape)\n",
    "        cost = compute_cost(AL, Y)\n",
    "        # Backward propagation.\n",
    "        grads = L_model_backward(AL, Y, caches)       \n",
    "        # Update parameters.\n",
    "        parameters = update_parameters(parameters, grads, learning_rate)                \n",
    "        # Print the cost every 100 training example\n",
    "        if print_cost and i % 10 == 0:\n",
    "            print (\"Cost after iteration %i: %f\" %(i, cost))\n",
    "        if print_cost and i % 1 == 0:\n",
    "            costs.append(cost)            \n",
    "    # plot the cost\n",
    "    plt.plot(costs)\n",
    "    plt.ylabel('cost')\n",
    "    plt.xlabel('iterations (per 100\\'s)')\n",
    "    plt.title(\"Learning rate =\" + str(learning_rate))\n",
    "    plt.show()    \n",
    "    return parameters, costs"
   ]
  },
  {
   "cell_type": "code",
   "execution_count": 12,
   "metadata": {},
   "outputs": [],
   "source": [
    "def predict(X, y, parameters):\n",
    "    m = X.shape[1]\n",
    "    n = len(parameters) // 2 # number of layers in the neural network\n",
    "    p = np.zeros((1,m))    \n",
    "    # Forward propagation\n",
    "    probas, caches = L_model_forward(X, parameters)   \n",
    "    # convert probas to 0/1 predictions\n",
    "    for i in range(0, probas.shape[1]):\n",
    "        if probas[0,i] > 0.5:\n",
    "            p[0,i] = 1\n",
    "        else:\n",
    "            p[0,i] = 0    \n",
    "    print(p)\n",
    "    #print (\"predictions: \" + str(p))\n",
    "    #print (\"true labels: \" + str(y))\n",
    "    print(\"Accuracy: \"  + str(np.sum((p == y)/m)))        \n",
    "    return p"
   ]
  },
  {
   "cell_type": "code",
   "execution_count": 13,
   "metadata": {
    "_uuid": "5ab123cde94b7fbe303be5746f1bd7aedc983953"
   },
   "outputs": [
    {
     "name": "stdout",
     "output_type": "stream",
     "text": [
      "Cost after iteration 0: 0.693142\n",
      "Cost after iteration 10: 0.692872\n",
      "Cost after iteration 20: 0.692764\n",
      "Cost after iteration 30: 0.692614\n",
      "Cost after iteration 40: 0.692394\n",
      "Cost after iteration 50: 0.692058\n",
      "Cost after iteration 60: 0.691561\n",
      "Cost after iteration 70: 0.690833\n",
      "Cost after iteration 80: 0.689780\n",
      "Cost after iteration 90: 0.688290\n"
     ]
    },
    {
     "data": {
      "image/png": "[encoded data removed]",
      "text/plain": [
       "<Figure size 432x288 with 1 Axes>"
      ]
     },
     "metadata": {
      "needs_background": "light"
     },
     "output_type": "display_data"
    },
    {
     "name": "stdout",
     "output_type": "stream",
     "text": [
      "[[0. 0. 1. ... 0. 0. 0.]]\n",
      "Accuracy: 0.57062656641604\n",
      "[[0. 0. 0. ... 1. 1. 1.]]\n",
      "Accuracy: 0.4964920486435921\n"
     ]
    }
   ],
   "source": [
    "layers_dims=[784, 100, 1]\n",
    "parameters, costs = L_layer_model(image_train,label_train, layers_dims, num_iterations = 100, print_cost = True)\n",
    "pred_train = predict(image_train,label_train, parameters)\n",
    "pred_test = predict(image_test,label_test, parameters)"
   ]
  },
  {
   "cell_type": "code",
   "execution_count": 14,
   "metadata": {
    "_uuid": "ab8ff098df9bed3d1b147d2fd8f5a7e26977057f",
    "scrolled": false
   },
   "outputs": [
    {
     "name": "stdout",
     "output_type": "stream",
     "text": [
      "Cost after iteration 0: 0.693147\n",
      "Cost after iteration 10: 0.692951\n",
      "Cost after iteration 20: 0.692948\n",
      "Cost after iteration 30: 0.692948\n",
      "Cost after iteration 40: 0.692948\n",
      "Cost after iteration 50: 0.692948\n",
      "Cost after iteration 60: 0.692948\n",
      "Cost after iteration 70: 0.692948\n",
      "Cost after iteration 80: 0.692948\n",
      "Cost after iteration 90: 0.692948\n"
     ]
    },
    {
     "data": {
      "image/png": "[encoded data removed]",
      "text/plain": [
       "<Figure size 432x288 with 1 Axes>"
      ]
     },
     "metadata": {
      "needs_background": "light"
     },
     "output_type": "display_data"
    },
    {
     "name": "stdout",
     "output_type": "stream",
     "text": [
      "[[0. 0. 0. ... 0. 0. 0.]]\n",
      "Accuracy: 0.5099749373433584\n",
      "[[0. 0. 0. ... 0. 0. 0.]]\n",
      "Accuracy: 0.5159027128157156\n"
     ]
    }
   ],
   "source": [
    "layers_dims=[784, 100, 50, 50, 1]\n",
    "parameters, costs = L_layer_model(image_train,label_train, layers_dims, num_iterations = 100, print_cost = True)\n",
    "pred_train = predict(image_train,label_train, parameters)\n",
    "pred_test = predict(image_test,label_test, parameters)"
   ]
  },
  {
   "cell_type": "code",
   "execution_count": null,
   "metadata": {},
   "outputs": [],
   "source": []
  }
 ],
 "metadata": {
  "kernelspec": {
   "display_name": "Python 3",
   "language": "python",
   "name": "python3"
  },
  "language_info": {
   "codemirror_mode": {
    "name": "ipython",
    "version": 3
   },
   "file_extension": ".py",
   "mimetype": "text/x-python",
   "name": "python",
   "nbconvert_exporter": "python",
   "pygments_lexer": "ipython3",
   "version": "3.7.0"
  }
 },
 "nbformat": 4,
 "nbformat_minor": 1
}
