{
 "cells": [
  {
   "cell_type": "code",
   "execution_count": 1,
   "metadata": {
    "_uuid": "c22caa064ec3e27e6234f740f02727d9596be57d"
   },
   "outputs": [],
   "source": [
    "import pandas as pd\n",
    "import numpy as np\n",
    "import pickle\n",
    "import torch\n",
    "import torchvision.models as model\n",
    "from torchvision import transforms\n",
    "from sklearn import svm\n",
    "from sklearn.metrics import confusion_matrix"
   ]
  },
  {
   "cell_type": "code",
   "execution_count": 2,
   "metadata": {
    "_uuid": "fb9f2f1cd8a4606c7f6cba06df4c5757ab14316d"
   },
   "outputs": [],
   "source": [
    "def get_features(ip, layer, alexnet):\n",
    "        ip = ip.unsqueeze(0)\n",
    "        features = torch.zeros(1,4096)\n",
    "        def copy_data(m, i, o):\n",
    "            features.copy_(o.data)\n",
    "        h = layer.register_forward_hook(copy_data)\n",
    "        h_x = alexnet(ip)\n",
    "        h.remove()\n",
    "        return features.numpy()"
   ]
  },
  {
   "cell_type": "code",
   "execution_count": 3,
   "metadata": {
    "_uuid": "65034175d0cec52ea3fda3ff983d3e95af667d8f"
   },
   "outputs": [],
   "source": [
    "train = pickle.load(open('../input/cifar10/train_CIFAR.pickle', 'rb'))\n",
    "train_X=train['X']\n",
    "train_Y=train['Y']\n",
    "test = pickle.load(open('../input/test-cifar/test_CIFAR.pickle', 'rb'))\n",
    "test_X=test['X']\n",
    "test_Y=test['Y']"
   ]
  },
  {
   "cell_type": "code",
   "execution_count": 4,
   "metadata": {
    "_uuid": "c5e0635f41084e6438b31a65e2a49b40bae82336"
   },
   "outputs": [
    {
     "name": "stdout",
     "output_type": "stream",
     "text": [
      "(10000,) (2000,)\n"
     ]
    }
   ],
   "source": [
    "print(train_Y.shape,test_Y.shape)"
   ]
  },
  {
   "cell_type": "code",
   "execution_count": 5,
   "metadata": {
    "_uuid": "fad16d5c835a0e774a20bab708b069ef0bdc8d4b"
   },
   "outputs": [],
   "source": [
    "train_X=np.reshape(train_X,(10000,32,32,3))\n",
    "test_X=np.reshape(test_X,(2000,32,32,3))\n",
    "train_Y=train_Y.reshape(10000, -1)\n",
    "test_Y=test_Y.reshape(2000, -1)"
   ]
  },
  {
   "cell_type": "code",
   "execution_count": 6,
   "metadata": {
    "_uuid": "44b04edd2aaea95f26c7331ad9e7d3cc4fd8a625"
   },
   "outputs": [],
   "source": [
    "transform = transforms.Compose([\n",
    "    transforms.ToPILImage(),\n",
    "    transforms.Resize(size=(224, 224)),\n",
    "    transforms.ToTensor(),\n",
    "    transforms.Normalize(mean=[0.485, 0.456, 0.406],\n",
    "                                 std=[0.229, 0.224, 0.225])\n",
    "])"
   ]
  },
  {
   "cell_type": "code",
   "execution_count": 7,
   "metadata": {
    "_uuid": "64c074182208d99ae4a3e9ac88cace3499ba0970"
   },
   "outputs": [],
   "source": [
    "ip = [transform(X) for X in train_X]"
   ]
  },
  {
   "cell_type": "code",
   "execution_count": 8,
   "metadata": {
    "_uuid": "c7eefb3d387885f2378bcce54f0ad2dfd60d1ea8"
   },
   "outputs": [
    {
     "name": "stderr",
     "output_type": "stream",
     "text": [
      "Downloading: \"https://download.pytorch.org/models/alexnet-owt-4df8aa71.pth\" to /tmp/.torch/models/alexnet-owt-4df8aa71.pth\n",
      "100%|██████████| 244418560/244418560 [00:05<00:00, 48680353.36it/s]\n"
     ]
    }
   ],
   "source": [
    "alexnet = model.alexnet(pretrained=True)"
   ]
  },
  {
   "cell_type": "code",
   "execution_count": 9,
   "metadata": {
    "_uuid": "9a9a6cfc6217241b5b18b0d453343d3f629077d2"
   },
   "outputs": [
    {
     "data": {
      "text/plain": [
       "AlexNet(\n",
       "  (features): Sequential(\n",
       "    (0): Conv2d(3, 64, kernel_size=(11, 11), stride=(4, 4), padding=(2, 2))\n",
       "    (1): ReLU(inplace)\n",
       "    (2): MaxPool2d(kernel_size=3, stride=2, padding=0, dilation=1, ceil_mode=False)\n",
       "    (3): Conv2d(64, 192, kernel_size=(5, 5), stride=(1, 1), padding=(2, 2))\n",
       "    (4): ReLU(inplace)\n",
       "    (5): MaxPool2d(kernel_size=3, stride=2, padding=0, dilation=1, ceil_mode=False)\n",
       "    (6): Conv2d(192, 384, kernel_size=(3, 3), stride=(1, 1), padding=(1, 1))\n",
       "    (7): ReLU(inplace)\n",
       "    (8): Conv2d(384, 256, kernel_size=(3, 3), stride=(1, 1), padding=(1, 1))\n",
       "    (9): ReLU(inplace)\n",
       "    (10): Conv2d(256, 256, kernel_size=(3, 3), stride=(1, 1), padding=(1, 1))\n",
       "    (11): ReLU(inplace)\n",
       "    (12): MaxPool2d(kernel_size=3, stride=2, padding=0, dilation=1, ceil_mode=False)\n",
       "  )\n",
       "  (classifier): Sequential(\n",
       "    (0): Dropout(p=0.5)\n",
       "    (1): Linear(in_features=9216, out_features=4096, bias=True)\n",
       "    (2): ReLU(inplace)\n",
       "    (3): Dropout(p=0.5)\n",
       "    (4): Linear(in_features=4096, out_features=4096, bias=True)\n",
       "    (5): ReLU(inplace)\n",
       "    (6): Linear(in_features=4096, out_features=1000, bias=True)\n",
       "  )\n",
       ")"
      ]
     },
     "execution_count": 9,
     "metadata": {},
     "output_type": "execute_result"
    }
   ],
   "source": [
    "layer = alexnet.classifier[-2]\n",
    "alexnet.eval()"
   ]
  },
  {
   "cell_type": "code",
   "execution_count": 10,
   "metadata": {
    "_uuid": "38667ee6d1e90051f0a2dd51fd862850df899fd6"
   },
   "outputs": [],
   "source": [
    "extracted_features = [ get_features(X, layer, alexnet) for X in ip]\n",
    "extracted_features = [ X.ravel() for X in extracted_features]"
   ]
  },
  {
   "cell_type": "code",
   "execution_count": 11,
   "metadata": {
    "_uuid": "cd95e9b91fa51f883391adbc7f3907012acb17f9"
   },
   "outputs": [
    {
     "name": "stderr",
     "output_type": "stream",
     "text": [
      "/opt/conda/lib/python3.6/site-packages/sklearn/utils/validation.py:578: DataConversionWarning: A column-vector y was passed when a 1d array was expected. Please change the shape of y to (n_samples, ), for example using ravel().\n",
      "  y = column_or_1d(y, warn=True)\n"
     ]
    },
    {
     "data": {
      "text/plain": [
       "0.9278"
      ]
     },
     "execution_count": 11,
     "metadata": {},
     "output_type": "execute_result"
    }
   ],
   "source": [
    "SVM = svm.SVC()\n",
    "SVM.fit(extracted_features,train_Y)\n",
    "SVM.score(extracted_features,train_Y)\n",
    "#SVM.score(test_X,test_Y)"
   ]
  },
  {
   "cell_type": "code",
   "execution_count": 12,
   "metadata": {
    "_uuid": "795283f586f0d1dca36196579c98b8b7f6b47d64"
   },
   "outputs": [],
   "source": [
    "predicted_train=SVM.predict(extracted_features)\n",
    "# predicted_test=SVM.predict(test_X)\n",
    "\n",
    "#print('Confusion Matrix on Test Dataset':confusion_matrix(test_Y, predicted_test))\n",
    "      "
   ]
  },
  {
   "cell_type": "code",
   "execution_count": 13,
   "metadata": {
    "_uuid": "82332d3cf7d25050f91b1afc0e1d51f6642f8b05"
   },
   "outputs": [
    {
     "name": "stdout",
     "output_type": "stream",
     "text": [
      "Confusion Matrix on Training Dataset:\n",
      " [[4534  466]\n",
      " [ 256 4744]]\n"
     ]
    }
   ],
   "source": [
    "print('Confusion Matrix on Training Dataset:\\n',confusion_matrix(train_Y, predicted_train))"
   ]
  },
  {
   "cell_type": "code",
   "execution_count": 25,
   "metadata": {
    "_uuid": "ab9f8c42a9071f0865f5313b69244b9075837922"
   },
   "outputs": [
    {
     "data": {
      "text/plain": [
       "0.8965"
      ]
     },
     "execution_count": 25,
     "metadata": {},
     "output_type": "execute_result"
    }
   ],
   "source": [
    "ip = [transform(X) for X in test_X]\n",
    "extracted_features = [ get_features(X, layer, alexnet) for X in ip]\n",
    "extracted_features = [ X.ravel() for X in extracted_features]\n",
    "SVM.score(extracted_features,test_Y)\n"
   ]
  },
  {
   "cell_type": "code",
   "execution_count": 18,
   "metadata": {
    "_uuid": "4ab2e4820b1d1246d169a4023ea8a0b62e860bb4"
   },
   "outputs": [],
   "source": [
    "predicted_test=SVM.predict(extracted_features)"
   ]
  },
  {
   "cell_type": "code",
   "execution_count": 24,
   "metadata": {
    "_uuid": "13ceb710b0337e4802cf04a0b79b2f8938b93e3d"
   },
   "outputs": [
    {
     "name": "stdout",
     "output_type": "stream",
     "text": [
      "Confusion Matrix on Test Dataset:\n",
      " [[871 129]\n",
      " [ 78 922]]\n"
     ]
    }
   ],
   "source": [
    "print('Confusion Matrix on Test Dataset:\\n',confusion_matrix(test_Y, predicted_test))"
   ]
  },
  {
   "cell_type": "code",
   "execution_count": 20,
   "metadata": {
    "_uuid": "dc1c6ddb5b7000c76be1d5eddb4fecda3dd0740f"
   },
   "outputs": [],
   "source": [
    "from sklearn import metrics\n",
    "\n",
    "fpr, tpr, thresholds = metrics.roc_curve(test_Y, predicted_test)"
   ]
  },
  {
   "cell_type": "code",
   "execution_count": 23,
   "metadata": {
    "_uuid": "99535d409c1b43b006fe73abbc7bd1f604c82a9c"
   },
   "outputs": [
    {
     "data": {
      "image/png": "[encoded data removed]",
      "text/plain": [
       "<Figure size 432x288 with 1 Axes>"
      ]
     },
     "metadata": {
      "needs_background": "light"
     },
     "output_type": "display_data"
    }
   ],
   "source": [
    "import matplotlib.pyplot as plt\n",
    "roc_auc = metrics.auc(fpr,tpr)\n",
    "plt.figure()\n",
    "lw = 2\n",
    "plt.plot(fpr, tpr, color='darkorange',lw=lw, label='ROC curve (area = %0.2f)' % roc_auc)\n",
    "plt.plot([0, 1], [0, 1], color='navy', lw=lw, linestyle='--')\n",
    "plt.xlim([0.0, 1.0])\n",
    "plt.ylim([0.0, 1.05])\n",
    "plt.xlabel('False Positive Rate')\n",
    "plt.ylabel('True Positive Rate')\n",
    "plt.title('Receiver operating characteristic example')\n",
    "plt.legend(loc=\"lower right\")\n",
    "plt.show()"
   ]
  },
  {
   "cell_type": "code",
   "execution_count": null,
   "metadata": {
    "_uuid": "062cd5c4c9aae95dbb71466fc73c3e63285854f1"
   },
   "outputs": [],
   "source": []
  }
 ],
 "metadata": {
  "kernelspec": {
   "display_name": "Python 3",
   "language": "python",
   "name": "python3"
  },
  "language_info": {
   "codemirror_mode": {
    "name": "ipython",
    "version": 3
   },
   "file_extension": ".py",
   "mimetype": "text/x-python",
   "name": "python",
   "nbconvert_exporter": "python",
   "pygments_lexer": "ipython3",
   "version": "3.7.0"
  }
 },
 "nbformat": 4,
 "nbformat_minor": 1
}
